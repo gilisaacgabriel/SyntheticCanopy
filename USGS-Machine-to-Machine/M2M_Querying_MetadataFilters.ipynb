{
 "cells": [
  {
   "cell_type": "markdown",
   "id": "a73bedfe-8542-4e42-be64-a18db32ac131",
   "metadata": {},
   "source": [
    "# **Machine to Machine (M2M) Querying [*MetadataFilters*](https://m2m.cr.usgs.gov/api/docs/datatypes/#metadataFilter)**\n",
    "\n",
    "### **What is M2M?**\n",
    "EarthExplorer (EE) serves as a key data access portal, offering a range of tools for searching, discovering, and downloading data and metadata from the USGS Earth Resources Observation and Science (EROS) data repository. The Machine-to-Machine (M2M) API allows users to search and retrieve download URLS and metadata from the EROS archive by using programming languages like Python or PHP. Users can create JSON structures to pass to M2M endpoints, subsequently receiving JSON responses in return.\n",
    "\n",
    "### **Requesting Access**\n",
    "Users will need to log on to their [**EROS Registration Service (ERS)**](https://ers.cr.usgs.gov/) accounts to view view the M2M documentation. To submit download requests through M2M, ERS users must be authorized. \n",
    "Steps to request M2M access:\n",
    "1. Login to [**EROS Registration Service (ERS)**](https://ers.cr.usgs.gov/) (See [**How to Create an ERS Account**](https://www.youtube.com/watch?v=Ut6kxbuP_nk))\n",
    "2. Select the **Access Request** menu\n",
    "3. From the **Access Controls** page, use the **Request Access** button\n",
    "4. In the **Access Type** selector, choose **Access to EE's Machine to Machine interface (MACHINE)**, then complete the questions\n",
    "\n",
    "\n",
    "<div class=\"alert alert-warning\"><h4>\n",
    "The USGS/EROS User Services team assesses these requests. Contact USGS EROS User Services for more information: <a href=\"https://www.usgs.gov/staff-profiles/usgs-eros-customer-services\" target=\"_blank\">custserv@usgs.gov</a> and visit the <a href=\"https://www.usgs.gov/centers/eros/science/earthexplorer-help-index#ers\" target=\"_blank\">EarthExplorer Help Index</a>   </h4></div>\n",
    "\n",
    "\n",
    "### **Use Case Scenario**\n",
    "This tutorial demonstrates how to query using metadata specific to the various collections of Landsat data. We use the following Machine-to-Machine API filters: [**metadata*Value***](https://m2m.cr.usgs.gov/api/docs/datatypes/#metadataValue), [**metadata*Between***](https://m2m.cr.usgs.gov/api/docs/datatypes/#metadataBetween), [**metadata*And***](https://m2m.cr.usgs.gov/api/docs/datatypes/#metadataAnd), and [**metadata*Or***](https://m2m.cr.usgs.gov/api/docs/datatypes/#metadataOr).\n",
    "<!-- The queryable metadata parameters vary depending on the dataset collection. For instance, Landsat 8-9 OLI/TIRS, Landsat 7 ETM+, and Landsat 4-5 TM may not have the same set of parameters available for querying. -->\n",
    "\n",
    "\n",
    "Users can view queryable metadata after following one of these steps:\n",
    "- Submitting a [**dataset-filters**](https://m2m.cr.usgs.gov/api/docs/reference/#dataset-filters) query and listing the results\n",
    "- Submitting a search on [**Earth Explorer**](https://earthexplorer.usgs.gov/) and viewing the list of metadata available for querying under the **Additional Information** tab\n",
    "\n",
    "The [**Landsat Collection 2 Data Dictionary**](https://www.usgs.gov/centers/eros/science/landsat-collection-2-data-dictionary) describes all queryable metadata available through Earth Explorer."
   ]
  },
  {
   "cell_type": "markdown",
   "id": "aec122a3-62b0-4353-8379-29b810f26e5a",
   "metadata": {},
   "source": [
    "---\n",
    "## **Setup**\n",
    "\n",
    "#### Import necessary libraries"
   ]
  },
  {
   "cell_type": "code",
   "execution_count": 1,
   "id": "2d183bfb-c145-499c-9682-4006ee7df808",
   "metadata": {},
   "outputs": [
    {
     "name": "stderr",
     "output_type": "stream",
     "text": [
      "C:\\Users\\gabriel.245\\AppData\\Local\\Temp\\3\\ipykernel_40320\\3098291382.py:7: DeprecationWarning: 'cgi' is deprecated and slated for removal in Python 3.13\n",
      "  import cgi\n"
     ]
    }
   ],
   "source": [
    "import json\n",
    "import requests\n",
    "from getpass import getpass\n",
    "import sys\n",
    "import time\n",
    "import argparse\n",
    "import cgi\n",
    "import os\n",
    "import pandas as pd\n",
    "import warnings\n",
    "warnings.filterwarnings(\"ignore\")"
   ]
  },
  {
   "cell_type": "markdown",
   "id": "ce41e1d7-271a-4936-9d1d-3d88b89170c9",
   "metadata": {},
   "source": [
    "#### Define send request function\n",
    "This function sends a request to a M2M endpoint and returns the parsed JSON response.\n",
    "\n",
    "Input parameters include:\n",
    "- **endpoint_url** (*str*): The URL of the M2M endpoint\n",
    "- **payload** (*dict*): The payload to be sent with the request\n",
    "\n",
    "Returns:\n",
    "- **dict**: Parsed JSON response"
   ]
  },
  {
   "cell_type": "code",
   "execution_count": 2,
   "id": "7f5c42e5-0d99-47ed-a986-a99a5c61d345",
   "metadata": {},
   "outputs": [],
   "source": [
    "# Send http request\n",
    "def sendRequest(url, data, apiKey = None, exitIfNoResponse = True):\n",
    "    \"\"\"\n",
    "    Send a request to an M2M endpoint and returns the parsed JSON response.\n",
    "\n",
    "    Parameters:\n",
    "    endpoint_url (str): The URL of the M2M endpoint\n",
    "    payload (dict): The payload to be sent with the request\n",
    "\n",
    "    Returns:\n",
    "    dict: Parsed JSON response\n",
    "    \"\"\"  \n",
    "    \n",
    "    json_data = json.dumps(data)\n",
    "    \n",
    "    if apiKey == None:\n",
    "        response = requests.post(url, json_data)\n",
    "    else:\n",
    "        headers = {'X-Auth-Token': apiKey}              \n",
    "        response = requests.post(url, json_data, headers = headers)  \n",
    "    \n",
    "    try:\n",
    "      httpStatusCode = response.status_code \n",
    "      if response == None:\n",
    "          print(\"No output from service\")\n",
    "          if exitIfNoResponse: sys.exit()\n",
    "          else: return False\n",
    "      output = json.loads(response.text)\n",
    "      if output['errorCode'] != None:\n",
    "          print(output['errorCode'], \"- \", output['errorMessage'])\n",
    "          if exitIfNoResponse: sys.exit()\n",
    "          else: return False\n",
    "      if  httpStatusCode == 404:\n",
    "          print(\"404 Not Found\")\n",
    "          if exitIfNoResponse: sys.exit()\n",
    "          else: return False\n",
    "      elif httpStatusCode == 401: \n",
    "          print(\"401 Unauthorized\")\n",
    "          if exitIfNoResponse: sys.exit()\n",
    "          else: return False\n",
    "      elif httpStatusCode == 400:\n",
    "          print(\"Error Code\", httpStatusCode)\n",
    "          if exitIfNoResponse: sys.exit()\n",
    "          else: return False\n",
    "    except Exception as e: \n",
    "          response.close()\n",
    "          print(e)\n",
    "          if exitIfNoResponse: sys.exit()\n",
    "          else: return False\n",
    "    response.close()\n",
    "    \n",
    "    return output['data']"
   ]
  },
  {
   "cell_type": "markdown",
   "id": "ae2b0fb6-f2cc-4f8c-b633-8345f600e29b",
   "metadata": {},
   "source": [
    "---\n",
    "## **User Input**\n",
    "#### **Login by entering [EROS Registration System (EROS)](https://ers.cr.usgs.gov/https://ers.cr.usgs.gov/) *username* and *password* when prompted**"
   ]
  },
  {
   "cell_type": "code",
   "execution_count": null,
   "id": "e750828d-e621-4c37-87f4-0b633f0bef25",
   "metadata": {},
   "outputs": [],
   "source": [
    "# print(\"Logging in...\\n\")\n",
    "\n",
    "# serviceUrl = \"https://m2m.cr.usgs.gov/api/api/json/stable/\"\n",
    "# p = ['Enter EROS Registration System (ERS) Username: ', 'Enter ERS Account Password: ']\n",
    "\n",
    "# # Use requests.post() to make the login request\n",
    "# response = requests.post(f\"{serviceUrl}login\", json={'username': getpass(prompt=p[0]), 'password': getpass(prompt=p[1])})\n",
    "\n",
    "# if response.status_code == 200:  # Check for successful response\n",
    "#     apiKey = response.json()['data']\n",
    "#     print('\\nLogin Successful, API Key Received!')\n",
    "#     headers = {'X-Auth-Token': apiKey}\n",
    "# else:\n",
    "#     print(\"\\nLogin was unsuccessful, please try again or create an account at: https://ers.cr.usgs.gov/register.\")\n",
    "\n",
    "# # Print the API key only if login was successful\n",
    "# if apiKey:\n",
    "#     print(\"\\nAPI Key: \" + apiKey + \"\\n\")"
   ]
  },
  {
   "cell_type": "markdown",
   "id": "75a523fb-abdc-46b5-80ea-c6700cd66071",
   "metadata": {},
   "source": [
    "#### **OR**"
   ]
  },
  {
   "cell_type": "markdown",
   "id": "660b2a4d-0bba-491f-b5e2-450a5427e312",
   "metadata": {
    "tags": []
   },
   "source": [
    "#### **Login by setting [EROS Registration System (EROS)](https://ers.cr.usgs.gov/https://ers.cr.usgs.gov/) *username* and *password***"
   ]
  },
  {
   "cell_type": "code",
   "execution_count": 3,
   "id": "78cb54b8-08c5-4807-bc30-b84fa5924d29",
   "metadata": {},
   "outputs": [],
   "source": [
    "username = \"gilisaacgabriel\"\n",
    "password = \"winqiT-zecji8-tykjuf\""
   ]
  },
  {
   "cell_type": "code",
   "execution_count": 4,
   "id": "6bd4c643-8b41-4be0-b487-93a035a2f5ed",
   "metadata": {},
   "outputs": [
    {
     "name": "stdout",
     "output_type": "stream",
     "text": [
      "Logging in...\n",
      "\n",
      "API Key: eyJjaWQiOjI3MTc0NzQzLCJzIjoiMTcyMDIxMjI0MyIsInIiOjQyMCwicCI6WyJ1c2VyIiwiZG93bmxvYWQiLCJvcmRlciJdfQ==\n",
      "\n"
     ]
    }
   ],
   "source": [
    "print(\"Logging in...\\n\")\n",
    "    \n",
    "serviceUrl = \"https://m2m.cr.usgs.gov/api/api/json/stable/\"\n",
    "login_payload = {'username' : username, 'password' : password}\n",
    "    \n",
    "apiKey = sendRequest(serviceUrl + \"login\", login_payload)\n",
    "    \n",
    "print(\"API Key: \" + apiKey + \"\\n\")"
   ]
  },
  {
   "cell_type": "markdown",
   "id": "558d8dea-a2ea-4a83-bb21-b79cf575398a",
   "metadata": {},
   "source": [
    "---\n",
    "## **Setup General Search Payload for [scene-search](https://m2m.cr.usgs.gov/api/docs/reference/#scene-search)**\n",
    "Below, we've setup a general search payload—a JSON  dictionary with various query parameters—to be transmitted to the M2M [**scene-search**](https://m2m.cr.usgs.gov/api/docs/reference/#scene-search) endpoint for querying products within the various collections of Landsat data. This payload includes:\n",
    "\n",
    "- **maxResults:** the number of results to be returned (default is 100).\n",
    "\n",
    "- **datasetName:** used to identify the collection of data to search.\n",
    "\n",
    "- [**sceneFilters:**](https://m2m.cr.usgs.gov/api/docs/datatypes/#sceneFilter) used to filter the data within the collections of Landsat data. The ones used in this tutorial are:\n",
    "\n",
    "    - The [**acquisitionFilter**](https://m2m.cr.usgs.gov/api/docs/datatypes/#acquisitionFilter) uses the ***'start'*** and ***'end'*** dates in ISO format **yyyy-mm-dd** for the time period of interest. Due to variations in acquisition dates for each Landsat dataset, we won't set a fixed parameter. Instead, we'll wait to fill in the date range as appropriate for each dataset. An example setup is:\n",
    "    `acquisitionFilter = {'start' : '2023-03-01', 'end' : '2023-04-01'}`\n",
    "\n",
    "    - The [**cloudCoverFilter**](https://m2m.cr.usgs.gov/api/docs/datatypes/#cloudCoverFilter) is used to filter by percent cloud cover by setting a ***'min'*** and ***'max'*** (**%**).\n",
    "    \n",
    "    - The [**metadataFilter**](https://m2m.cr.usgs.gov/api/docs/datatypes/#metadataFilter), which is the focus of this tutorial, includes the [**metadataValue**](https://m2m.cr.usgs.gov/api/docs/datatypes/#metadataValue), [**metadataAnd**](https://m2m.cr.usgs.gov/api/docs/datatypes/#metadataAnd), [**metadataOr**](https://m2m.cr.usgs.gov/api/docs/datatypes/#metadataOr), and [**metadataBetween**](https://m2m.cr.usgs.gov/api/docs/datatypes/#metadataBetween). Each of these will be explored in detail in the sections that follow.\n"
   ]
  },
  {
   "cell_type": "markdown",
   "id": "766bf07e-9f0d-453f-a055-90fe455e7cba",
   "metadata": {
    "tags": []
   },
   "source": [
    "### **Create a function that creates general search payload**\n",
    "In this section, we define a search payload function that generates a JSON dictionary which will be used for running a [**scene-search**](https://m2m.cr.usgs.gov/api/docs/reference/#scene-search). The function takes input parameters such as **datasetName**, [**metadataFilter**](https://m2m.cr.usgs.gov/api/docs/datatypes/#metadataFilter), and [**acquisitionFilter**](https://m2m.cr.usgs.gov/api/docs/datatypes/#acquisitionFilter). Default parameters like **maxResults** (set to 10) and [**cloudCoverFilter**](https://m2m.cr.usgs.gov/api/docs/datatypes/#cloudCoverFilter) (set to 50%) are also included.\n",
    "\n",
    "In general, this function simplifies the process of generating a JSON dictionary while applying metadataFilters to various Landsat dataset collections."
   ]
  },
  {
   "cell_type": "code",
   "execution_count": null,
   "id": "0f012df2-5105-4b8e-9899-f4a9d478a993",
   "metadata": {},
   "outputs": [],
   "source": [
    "def create_search_payload(datasetName, metadataFilter, acquisitionFilter):\n",
    "    # create search payload from input filters\n",
    "    search_payload = {\n",
    "        \"maxResults\": 10,\n",
    "        'datasetName' : datasetName,\n",
    "        'sceneFilter' : {\n",
    "            'metadataFilter': metadataFilter,\n",
    "            'acquisitionFilter' : acquisitionFilter,\n",
    "            'cloudCoverFilter' : {'min' : 0, 'max' : 50},\n",
    "        }\n",
    "    }\n",
    "    return search_payload"
   ]
  },
  {
   "cell_type": "markdown",
   "id": "7b147c11-09c6-4664-9b52-35130a8a3d67",
   "metadata": {},
   "source": [
    "<div class=\"alert alert-info\" role=\"alert\">\n",
    "  <h4>\n",
    "    View the list of Landsat <a href=\"./M2M_Landsat_Collections_datasetNames.html\" target=\"_blank\">&nbsp;datasetNames</a> available for querying the M2M API.\n",
    "  </h4>\n",
    "</div>"
   ]
  },
  {
   "cell_type": "markdown",
   "id": "e9cad0a7-275d-4a4b-8816-85403827cd36",
   "metadata": {
    "tags": []
   },
   "source": [
    "# [**1. metadata*Value***](https://m2m.cr.usgs.gov/api/docs/datatypes/#metadataValue)\n",
    "\n",
    "---\n",
    "## [**Searching for a *Satellite***](https://www.usgs.gov/centers/eros/science/landsat-collection-2-data-dictionary#satellite)\n",
    "\n",
    "To show how to use the [**metadataValue**](https://m2m.cr.usgs.gov/api/docs/datatypes/#metadataValue) we to search for a specific satellite using the [**Landsat 5 data from the Landsat 4-5 Thematic Mapper Collection 2 Level-1**](https://www.usgs.gov/centers/eros/science/usgs-eros-archive-landsat-archives-landsat-4-5-thematic-mapper-collection-2) (***landsat_tm_c2_l1***) dataset.\n",
    "We start by sending a [**dataset-filters**](https://m2m.cr.usgs.gov/api/docs/reference/#dataset-filters) request to retrieve the **`'id'`** for the field we are filtering for, in this case it is **`'Satellite'`**. This **`'id'`** will be used in the metadataFilter parameter **`'filterId'`**. The [**dataset-filters**](https://m2m.cr.usgs.gov/api/docs/reference/#dataset-filters) request returns the [**metadataFilter**](https://m2m.cr.usgs.gov/api/docs/datatypes/#metadataFilter) parameters for the specified dataset. These values can be used as additional criteria when submitting search queries for specific scenes. The **'datasetName'** input parameter is necessary. \n",
    "#### **1. Run [dataset-filters](https://m2m.cr.usgs.gov/api/docs/reference/#dataset-filters)**"
   ]
  },
  {
   "cell_type": "code",
   "execution_count": null,
   "id": "706a39c4-0abc-429c-95d9-cf52997b54fe",
   "metadata": {},
   "outputs": [],
   "source": [
    "# datasetfilters_tmc2L1 = sendRequest(serviceUrl + \"dataset-filters\", {'datasetName': 'landsat_tm_c2_l1'}, apiKey)"
   ]
  },
  {
   "cell_type": "code",
   "execution_count": 5,
   "id": "0ba19003",
   "metadata": {},
   "outputs": [],
   "source": [
    "datasetfilters_tmc2L1 = sendRequest(serviceUrl + \"dataset-filters\", {'datasetName': 'gls2000_dem'}, apiKey)"
   ]
  },
  {
   "cell_type": "markdown",
   "id": "0d015d58",
   "metadata": {},
   "source": []
  },
  {
   "cell_type": "markdown",
   "id": "5672940b-c004-4efc-ad09-4f1540d39608",
   "metadata": {},
   "source": [
    "#### **2. Use Pandas to view the [dataset-filters](https://m2m.cr.usgs.gov/api/docs/reference/#dataset-filters) result**\n",
    "Below we show the results from the [**dataset-filters**](https://m2m.cr.usgs.gov/api/docs/reference/#dataset-filters) query as a table using `pandas`. The **`fieldLabel`** collumn provides insights into the queryable fields available for this specific Landsat dataset. The fields in these results are needed for figuring out which filter options are available, and applying them. While the **`fieldConfig.type`** lists one of three types for each fields:  **`Text`**, **`Range`** or **`Select`**. These act as a guide on the appropriate [**metadataFilter**](https://m2m.cr.usgs.gov/api/docs/datatypes/#metadataFilter) type to apply. \n",
    "  \n",
    "If the `fieldConfig.type` (also `'fieldConfig':'type'`) is:\n",
    "- `Select`, then check the `valueList` field for valid values to use in a `'filterType':'value'` metadataFilter ([metadataValue](https://m2m.cr.usgs.gov/api/docs/datatypes/#metadataValue))\n",
    "- `Range`, then use a `'filterType':'between'` metadataFilter and provide `'firstValue'` and `'secondValue'` ([metadataBetween](https://m2m.cr.usgs.gov/api/docs/datatypes/#metadataBetween))\n",
    "- `Text`, then use a `'like'` or `'='` operand in a `'filterType':'value'` metadataFilter ([metadataValue](https://m2m.cr.usgs.gov/api/docs/datatypes/#metadataValue))\n"
   ]
  },
  {
   "cell_type": "code",
   "execution_count": 6,
   "id": "3f31a2d6-3d63-4253-8d68-0a7ac35cd40a",
   "metadata": {
    "tags": []
   },
   "outputs": [
    {
     "data": {
      "text/html": [
       "<div>\n",
       "<style scoped>\n",
       "    .dataframe tbody tr th:only-of-type {\n",
       "        vertical-align: middle;\n",
       "    }\n",
       "\n",
       "    .dataframe tbody tr th {\n",
       "        vertical-align: top;\n",
       "    }\n",
       "\n",
       "    .dataframe thead th {\n",
       "        text-align: right;\n",
       "    }\n",
       "</style>\n",
       "<table border=\"1\" class=\"dataframe\">\n",
       "  <thead>\n",
       "    <tr style=\"text-align: right;\">\n",
       "      <th></th>\n",
       "      <th>id</th>\n",
       "      <th>legacyFieldId</th>\n",
       "      <th>dictionaryLink</th>\n",
       "      <th>fieldLabel</th>\n",
       "      <th>searchSql</th>\n",
       "      <th>fieldConfig.type</th>\n",
       "      <th>fieldConfig.filters</th>\n",
       "      <th>fieldConfig.validators</th>\n",
       "      <th>fieldConfig.displayListId</th>\n",
       "    </tr>\n",
       "  </thead>\n",
       "  <tbody>\n",
       "    <tr>\n",
       "      <th>0</th>\n",
       "      <td>63dd4574b733d055</td>\n",
       "      <td>None</td>\n",
       "      <td>https://www.usgs.gov/centers/eros/science/land...</td>\n",
       "      <td>ULLAT</td>\n",
       "      <td>ul_corner_lat between ?</td>\n",
       "      <td>Range</td>\n",
       "      <td>[]</td>\n",
       "      <td>[]</td>\n",
       "      <td></td>\n",
       "    </tr>\n",
       "    <tr>\n",
       "      <th>1</th>\n",
       "      <td>63dd4574d7b638fb</td>\n",
       "      <td>None</td>\n",
       "      <td>https://www.usgs.gov/centers/eros/science/land...</td>\n",
       "      <td>ULLON</td>\n",
       "      <td>ul_corner_lon between ?</td>\n",
       "      <td>Range</td>\n",
       "      <td>[]</td>\n",
       "      <td>[]</td>\n",
       "      <td></td>\n",
       "    </tr>\n",
       "    <tr>\n",
       "      <th>2</th>\n",
       "      <td>63dd457415727274</td>\n",
       "      <td>None</td>\n",
       "      <td>https://www.usgs.gov/centers/eros/science/land...</td>\n",
       "      <td>ULXMAP</td>\n",
       "      <td>ulxmap between ?</td>\n",
       "      <td>Range</td>\n",
       "      <td>[]</td>\n",
       "      <td>[]</td>\n",
       "      <td></td>\n",
       "    </tr>\n",
       "    <tr>\n",
       "      <th>3</th>\n",
       "      <td>63dd45741aab80d5</td>\n",
       "      <td>None</td>\n",
       "      <td>https://www.usgs.gov/centers/eros/science/land...</td>\n",
       "      <td>ULYMAP</td>\n",
       "      <td>ulymap between ?</td>\n",
       "      <td>Range</td>\n",
       "      <td>[]</td>\n",
       "      <td>[]</td>\n",
       "      <td></td>\n",
       "    </tr>\n",
       "  </tbody>\n",
       "</table>\n",
       "</div>"
      ],
      "text/plain": [
       "                 id legacyFieldId  \\\n",
       "0  63dd4574b733d055          None   \n",
       "1  63dd4574d7b638fb          None   \n",
       "2  63dd457415727274          None   \n",
       "3  63dd45741aab80d5          None   \n",
       "\n",
       "                                      dictionaryLink fieldLabel  \\\n",
       "0  https://www.usgs.gov/centers/eros/science/land...      ULLAT   \n",
       "1  https://www.usgs.gov/centers/eros/science/land...      ULLON   \n",
       "2  https://www.usgs.gov/centers/eros/science/land...     ULXMAP   \n",
       "3  https://www.usgs.gov/centers/eros/science/land...     ULYMAP   \n",
       "\n",
       "                 searchSql fieldConfig.type fieldConfig.filters  \\\n",
       "0  ul_corner_lat between ?            Range                  []   \n",
       "1  ul_corner_lon between ?            Range                  []   \n",
       "2         ulxmap between ?            Range                  []   \n",
       "3         ulymap between ?            Range                  []   \n",
       "\n",
       "  fieldConfig.validators fieldConfig.displayListId  \n",
       "0                     []                            \n",
       "1                     []                            \n",
       "2                     []                            \n",
       "3                     []                            "
      ]
     },
     "execution_count": 6,
     "metadata": {},
     "output_type": "execute_result"
    }
   ],
   "source": [
    "pd.json_normalize(datasetfilters_tmc2L1)"
   ]
  },
  {
   "cell_type": "markdown",
   "id": "6fde7e60-6c46-4b37-9a0c-3a52df52d34d",
   "metadata": {
    "tags": []
   },
   "source": [
    "#### **3. Identify the index for the filter parameter, `fieldLabel : Satellite`**\n",
    "In this case it is index # 3. We will use the **`id`** for the **`filterId`** in the [metadataValue](https://m2m.cr.usgs.gov/api/docs/datatypes/#metadataValue) dictionary below. \n",
    "When the **`'fieldConfig':'type'`** is **`Select`**, users are encouraged to check the **`valueList`** field for valid values to use in a metadataValue filter.\n",
    "\n",
    "The **`valueList`** shows the querable satellite values for this collection of Landsat data they are **`'All'`** for all satellites,  **`'5'`** for Landsat 5 and **`'4'`** for Landsat 4."
   ]
  },
  {
   "cell_type": "code",
   "execution_count": 11,
   "id": "14152962-a17c-411c-bab9-18163a84ee09",
   "metadata": {},
   "outputs": [
    {
     "data": {
      "text/plain": [
       "{'id': '63dd4574b733d055',\n",
       " 'legacyFieldId': None,\n",
       " 'dictionaryLink': 'https://www.usgs.gov/centers/eros/science/landsat-collection-2-data-dictionary#coordinates_decimal',\n",
       " 'fieldConfig': {'type': 'Range',\n",
       "  'filters': [],\n",
       "  'options': {},\n",
       "  'validators': [],\n",
       "  'displayListId': ''},\n",
       " 'fieldLabel': 'ULLAT',\n",
       " 'searchSql': 'ul_corner_lat between ?'}"
      ]
     },
     "execution_count": 11,
     "metadata": {},
     "output_type": "execute_result"
    }
   ],
   "source": [
    "datasetfilters_tmc2L1[0]"
   ]
  },
  {
   "cell_type": "markdown",
   "id": "decdd2a5-ec16-4557-9a3e-2d20495a5e13",
   "metadata": {},
   "source": [
    "#### **4. Fill `metadataFilter` parameter with information for querying Landsat-5 satellites**\n",
    "- The `'filterType'` is `'value'` since the `'fieldConfig':'type'` is `Select` for the `'fieldLabel': 'Satellite'`\n",
    "- The `'filterId': datasetfilters_tmc2L1[3]['id']` points to the `'id'` value for querying satellite data within the Landsat 4-5 Thematic Mapper Collection 2 Level-1 (`'landsat_tm_c2_l1'`) dataset.\n",
    "- The `'value' : '5'` is set to query for Landsat 5 scenes within the Landsat 4-5 Thematic Mapper Collection 2 Level-1 (`'landsat_tm_c2_l1'`) dataset."
   ]
  },
  {
   "cell_type": "code",
   "execution_count": 12,
   "id": "6bab988a-9233-4d7b-8f77-13a0c8f6aa7e",
   "metadata": {},
   "outputs": [
    {
     "data": {
      "text/plain": [
       "{'filterType': 'value', 'filterId': '63dd4574b733d055', 'value': '5'}"
      ]
     },
     "execution_count": 12,
     "metadata": {},
     "output_type": "execute_result"
    }
   ],
   "source": [
    "satellite_filter = {'filterType': 'value',\n",
    "                 'filterId': datasetfilters_tmc2L1[0]['id'],\n",
    "                 'value' : '5'}\n",
    "satellite_filter"
   ]
  },
  {
   "cell_type": "markdown",
   "id": "1c503322-8b3a-4488-9dc2-8f27e22df8b2",
   "metadata": {},
   "source": [
    "#### **5. Create the [scene-search](https://m2m.cr.usgs.gov/api/docs/reference/#scene-search) payload for querying Landsat-5 products from the Landsat 4-5 Thematic Mapper Collection 2 Level-1**\n",
    "\n",
    "Note that the Landsat 4-5 Thematic Mapper dataset was acquired between March 1984 and January 2013 ([**Landsat Missions Timeline**](https://www.usgs.gov/media/images/landsat-missions-timeline)), therefore the **aquisitionFilter** dates should be within those ranges."
   ]
  },
  {
   "cell_type": "code",
   "execution_count": 13,
   "id": "a286b8fb-2d51-49b7-b06e-fbeddf03d044",
   "metadata": {},
   "outputs": [
    {
     "ename": "NameError",
     "evalue": "name 'create_search_payload' is not defined",
     "output_type": "error",
     "traceback": [
      "\u001b[1;31m---------------------------------------------------------------------------\u001b[0m",
      "\u001b[1;31mNameError\u001b[0m                                 Traceback (most recent call last)",
      "Cell \u001b[1;32mIn[13], line 1\u001b[0m\n\u001b[1;32m----> 1\u001b[0m satellite_payload \u001b[38;5;241m=\u001b[39m \u001b[43mcreate_search_payload\u001b[49m(\u001b[38;5;124m'\u001b[39m\u001b[38;5;124mgls2000_dem\u001b[39m\u001b[38;5;124m'\u001b[39m, satellite_filter, {})\n\u001b[0;32m      2\u001b[0m satellite_payload\n\u001b[0;32m      3\u001b[0m satellite_payload\n",
      "\u001b[1;31mNameError\u001b[0m: name 'create_search_payload' is not defined"
     ]
    }
   ],
   "source": [
    "satellite_payload = create_search_payload('gls2000_dem', satellite_filter, {})\n",
    "satellite_payload\n",
    "satellite_payload"
   ]
  },
  {
   "cell_type": "markdown",
   "id": "a41bc03c-c9bb-4d5e-adc0-f3004d6ebdc3",
   "metadata": {},
   "source": [
    "#### **6. Run [scene-search](https://m2m.cr.usgs.gov/api/docs/reference/#scene-search)  and view results** \n",
    "The code below runs the [scene-search](https://m2m.cr.usgs.gov/api/docs/reference/#scene-search) endpoint and shows the results using pandas. Note the returned results are all Landsat-5 scenes indicated by the **`'LT05'`** in the **`displayId`** names (see the [**Landsat Product ID**](https://www.usgs.gov/centers/eros/science/landsat-collection-2-data-dictionary/#landsat_product_id) to learn about the naming conventions)."
   ]
  },
  {
   "cell_type": "code",
   "execution_count": 8,
   "id": "b1cda841-5c08-40e2-a274-2a1958e1741a",
   "metadata": {
    "tags": []
   },
   "outputs": [
    {
     "ename": "NameError",
     "evalue": "name 'satellite_payload' is not defined",
     "output_type": "error",
     "traceback": [
      "\u001b[1;31m---------------------------------------------------------------------------\u001b[0m",
      "\u001b[1;31mNameError\u001b[0m                                 Traceback (most recent call last)",
      "Cell \u001b[1;32mIn[8], line 1\u001b[0m\n\u001b[1;32m----> 1\u001b[0m pd\u001b[38;5;241m.\u001b[39mjson_normalize((sendRequest(serviceUrl \u001b[38;5;241m+\u001b[39m \u001b[38;5;124m\"\u001b[39m\u001b[38;5;124mscene-search\u001b[39m\u001b[38;5;124m\"\u001b[39m, \u001b[43msatellite_payload\u001b[49m, apiKey))[\u001b[38;5;124m'\u001b[39m\u001b[38;5;124mresults\u001b[39m\u001b[38;5;124m'\u001b[39m])\n",
      "\u001b[1;31mNameError\u001b[0m: name 'satellite_payload' is not defined"
     ]
    }
   ],
   "source": [
    "pd.json_normalize((sendRequest(serviceUrl + \"scene-search\", satellite_payload, apiKey))['results'])"
   ]
  },
  {
   "cell_type": "markdown",
   "id": "5624f69d-377d-404b-addc-6967e86531c8",
   "metadata": {},
   "source": [
    "## [**Landsat Scene Identifier**](https://www.usgs.gov/centers/eros/science/landsat-collection-2-data-dictionary/#landsat_scene_id)\n",
    "\n",
    "Here we continue to show the uses of the metadataValue filter by searching for products with a specific [**Landsat Scene Identifier**](https://www.usgs.gov/centers/eros/science/landsat-collection-2-data-dictionary/#landsat_scene_id) in the same Landsat 4-5 Thematic Mapper Collection 2 Level-1 dataset. The [**Landsat Scene Identifier**](https://www.usgs.gov/centers/eros/science/landsat-collection-2-data-dictionary/#landsat_scene_id), also known as the **entityID**, is a unique identifier assigned to each Landsat scene. It is part of the metadata associated with Landsat scenes and serves as a specific identifier for a particular observation or image taken by a Landsat satellite. The **entityId** is a string composed of various components that provide information about the Landsat scene, such as the satellite platform, sensor, date of acquisition, and path/row. We will be querying for data within a scene with the **entityId**: **`LT50380322011251PAC02`**."
   ]
  },
  {
   "cell_type": "markdown",
   "id": "43edc758-5335-4c33-83db-ae2c71597048",
   "metadata": {
    "tags": []
   },
   "source": [
    "#### **1. Identify the index for the filter parameter, `fieldLabel : Landsat Scene Identifier`**\n",
    "In this case it is index # 11. "
   ]
  },
  {
   "cell_type": "code",
   "execution_count": 14,
   "id": "e1035868-2963-417b-8880-06141805f973",
   "metadata": {},
   "outputs": [
    {
     "ename": "IndexError",
     "evalue": "list index out of range",
     "output_type": "error",
     "traceback": [
      "\u001b[1;31m---------------------------------------------------------------------------\u001b[0m",
      "\u001b[1;31mIndexError\u001b[0m                                Traceback (most recent call last)",
      "Cell \u001b[1;32mIn[14], line 1\u001b[0m\n\u001b[1;32m----> 1\u001b[0m \u001b[43mdatasetfilters_tmc2L1\u001b[49m\u001b[43m[\u001b[49m\u001b[38;5;241;43m11\u001b[39;49m\u001b[43m]\u001b[49m\n",
      "\u001b[1;31mIndexError\u001b[0m: list index out of range"
     ]
    }
   ],
   "source": [
    "datasetfilters_tmc2L1[11]"
   ]
  },
  {
   "cell_type": "markdown",
   "id": "7286a3f6-b582-4047-beae-c0f9366d19d0",
   "metadata": {},
   "source": [
    "#### **2. Fill `metadataFilter` parameter with information for querying a specific Landsat Scene Identifier**\n",
    "- The `'filterType'` is `'value'` since the `'fieldConfig':'type'` is `Text` for the `'fieldLabel': 'Landsat Scene Identifier'`\n",
    "- The `'filterId': datasetfilters_tmc2L1[11]['id']` points to the `'id'` value for querying  Landsat Scene Identifier data within the Landsat 4-5 Thematic Mapper Collection 2 Level-1 (`'landsat_tm_c2_l1'`) dataset.\n",
    "- The `'value' : 'LT50380322011251PAC02'` is set to query for data within a Landsat 4-5 Thematic Mapper Collection 2 Level-1 (`'landsat_tm_c2_l1'`) scene, where *'LT50380322011251PAC02'* is the entityId for the scene\n",
    "- The `'operand'` is `'='` to find scenes within the specific Scene Identifier"
   ]
  },
  {
   "cell_type": "code",
   "execution_count": null,
   "id": "f7a0fd80-fd23-4a28-85de-10a2b91b111e",
   "metadata": {},
   "outputs": [],
   "source": [
    "scene_identifier_filter = {'filterType': 'value',\n",
    "                 'filterId': datasetfilters_tmc2L1[11]['id'],\n",
    "                 'value' : 'LT50380322011251PAC02',\n",
    "                           'operand' : '='}\n",
    "scene_identifier_filter"
   ]
  },
  {
   "cell_type": "markdown",
   "id": "11bfbea5-1bc5-413e-9c63-5c89031d0ab9",
   "metadata": {},
   "source": [
    "#### **3. Create the [scene-search](https://m2m.cr.usgs.gov/api/docs/reference/#scene-search) payload used for finding products within the `LT50380322011251PAC02` scene**"
   ]
  },
  {
   "cell_type": "code",
   "execution_count": null,
   "id": "eb3f3e73-56bd-4cf6-9dfe-c0140d44b02a",
   "metadata": {},
   "outputs": [],
   "source": [
    "scene_identifier_payload = create_search_payload('landsat_tm_c2_l1', scene_identifier_filter, {'start' : '1994-01-01', 'end' : '2013-01-31'})\n",
    "scene_identifier_payload"
   ]
  },
  {
   "cell_type": "markdown",
   "id": "7216f3ed-b38d-4f57-b38f-98f414cbae2f",
   "metadata": {},
   "source": [
    "#### **4. Run [scene-search](https://m2m.cr.usgs.gov/api/docs/reference/#scene-search)  and view results** \n",
    "The result shows a single scene with the Scene Identifier `LT50380322011251PAC02`, this is indicated by the `entityId` names."
   ]
  },
  {
   "cell_type": "code",
   "execution_count": null,
   "id": "b2aa8a7d-d351-4bd1-9c4f-08af62849b14",
   "metadata": {
    "tags": []
   },
   "outputs": [],
   "source": [
    "pd.json_normalize((sendRequest(serviceUrl + \"scene-search\", scene_identifier_payload, apiKey))['results'])"
   ]
  },
  {
   "cell_type": "markdown",
   "id": "59019460-97c6-46e3-bdd8-d40689bd0a32",
   "metadata": {
    "tags": []
   },
   "source": [
    "---\n",
    "## [**Tile Grid Region**](https://www.usgs.gov/centers/eros/science/ard-landsat-tiles-data-dictionary#tile_grid_region)\n",
    "Another way to use the [**metadataValue**](https://m2m.cr.usgs.gov/api/docs/datatypes/#metadataValue) filter is for specifying [**Tile Grid Region**](https://www.usgs.gov/centers/eros/science/ard-landsat-tiles-data-dictionary#tile_grid_region) in the Analysis Ready Data (ARD) dataset. The [**Tile Grid Region**](https://www.usgs.gov/centers/eros/science/ard-landsat-tiles-data-dictionary#tile_grid_region) is also specific to Level-3 Landsat 4-9 Collection 2 (C2) Datasets (e.g. [**Dynamic Surface Water Extent (DWSE)**](https://www.usgs.gov/landsat-missions/landsat-collection-2-level-3-dynamic-surface-water-extent-science-product), [**Burned Area**](https://www.usgs.gov/landsat-missions/landsat-collection-2-level-3-burned-area-science-product), [**Fractional Snow Covered Area**](https://www.usgs.gov/landsat-missions/landsat-collection-2-level-3-fractional-snow-covered-area-science-product), [**Fractional Snow Covered Area (fSCA) Statistics**](https://www.usgs.gov/centers/eros/science/usgs-eros-archive-landsat-collection-2-level-3-fsca-statistics-science-product)) which are processed from [**Landsat Collection 2 (C2) U.S. Analysis Ready Data (ARD)**](https://www.usgs.gov/landsat-missions/landsat-collection-2-us-analysis-ready-data).\n",
    "\n",
    "Our example below uses the [**Landsat 4-9 Collection 2 (C2) U.S. Analysis Ready Data (ARD) Level-2 Tiles (Albers projection)**](https://www.usgs.gov/landsat-missions/landsat-collection-2-us-analysis-ready-data) (***landsat_ard_tile_c2***) to query for tiles in **Alaska**."
   ]
  },
  {
   "cell_type": "markdown",
   "id": "c70b7bfe-7703-4a01-960b-793ed3c7bfa1",
   "metadata": {},
   "source": [
    "#### **1. Run [dataset-filter](https://m2m.cr.usgs.gov/api/docs/reference/#dataset-filters) endpoint for *`landsat_ard_tile_c2`* and use pandas to view**"
   ]
  },
  {
   "cell_type": "code",
   "execution_count": null,
   "id": "264646d5-3d3a-4463-afd0-adc1c70fddf7",
   "metadata": {
    "tags": []
   },
   "outputs": [],
   "source": [
    "datasetfilters_ardtilec2 = sendRequest(serviceUrl + \"dataset-filters\", {'datasetName': 'landsat_ard_tile_c2'}, apiKey)\n",
    "pd.json_normalize(datasetfilters_ardtilec2)"
   ]
  },
  {
   "cell_type": "markdown",
   "id": "d7bc43bf-d39f-4f64-b6c9-d53ec527ebe9",
   "metadata": {},
   "source": [
    "#### **2. Identify the index for the filter parameter, `fieldLabel : Tile Grid Region`**\n",
    "In this case it is index # 0. The **`valueList`** shows the querable Tile Grid Regions which are `'All'` for all regions,  `'CU'` for conterminous United States, `'AK'` for Alaska and `'HI'` for Hawaii."
   ]
  },
  {
   "cell_type": "code",
   "execution_count": null,
   "id": "0c1e771c-d738-44aa-916e-367875284eb1",
   "metadata": {},
   "outputs": [],
   "source": [
    "datasetfilters_ardtilec2[0]"
   ]
  },
  {
   "cell_type": "markdown",
   "id": "5d6eff93-160e-41eb-aac8-a05092ffa840",
   "metadata": {},
   "source": [
    "#### **3. Fill `metadataFilter` parameter for querying the Tile Grid Region**\n",
    "- The `'filterType'` is `'value'` since the `'fieldConfig':'type'` is `Select` for the `fieldLabel : Tile Grid Region`\n",
    "- The `'filterId': datasetfilters_ardtilec2[0]['id']` points to the `'id'` value for querying a specific Tile Grid Region within the Landsat 4-9 Collection 2 (C2) U.S. Analysis Ready Data (ARD) Level-2 Tiles (`'landsat_ard_tile_c2'`) dataset.\n",
    "- The `'value' : 'AK'` is set to query for tiles in Alaska"
   ]
  },
  {
   "cell_type": "code",
   "execution_count": null,
   "id": "42538314-0d2a-45b7-b386-63fa57b55b2b",
   "metadata": {},
   "outputs": [],
   "source": [
    "tileregion_filter = {'filterId': datasetfilters_ardtilec2[0]['id'],\n",
    "                 'filterType': 'value',\n",
    "                 'value': 'AK'}\n",
    "tileregion_filter"
   ]
  },
  {
   "cell_type": "markdown",
   "id": "b7005ed8-3b34-451e-aac4-01c98d4ec93e",
   "metadata": {},
   "source": [
    "#### **4. Create [scene-search](https://m2m.cr.usgs.gov/api/docs/reference/#scene-search) payload for retrieving data from a specific Tile Grid Region**"
   ]
  },
  {
   "cell_type": "code",
   "execution_count": null,
   "id": "611d2d52-4e0d-40d1-82da-953269d8ed5f",
   "metadata": {},
   "outputs": [],
   "source": [
    "tile_region_payload = create_search_payload('landsat_ard_tile_c2', tileregion_filter, {'start' : '2009-09-01', 'end' : '2009-09-05'})\n",
    "tile_region_payload"
   ]
  },
  {
   "cell_type": "markdown",
   "id": "77f96bf9-e373-49f7-b9c6-cdfbac6070c5",
   "metadata": {},
   "source": [
    "#### **5. Run [scene-search](https://m2m.cr.usgs.gov/api/docs/reference/#scene-search)  and view results** \n",
    "The code below runs the [scene-search](https://m2m.cr.usgs.gov/api/docs/reference/#scene-search) endpoint and shows the results using pandas. Note the returned results are all Alaska scenes indicated by the **'AK'** in the **`entityId`** and **`displayId`** names (see the [**Landsat Tile Identifier**](https://www.usgs.gov/centers/eros/science/ard-landsat-tiles-data-dictionary#tile_identifier))."
   ]
  },
  {
   "cell_type": "code",
   "execution_count": null,
   "id": "526433da-1f08-4ed9-bd92-03a415436d32",
   "metadata": {
    "tags": []
   },
   "outputs": [],
   "source": [
    "pd.json_normalize((sendRequest(serviceUrl + \"scene-search\", tile_region_payload, apiKey))['results'])"
   ]
  },
  {
   "cell_type": "markdown",
   "id": "2bf7dcf0-58e1-4bd1-8a65-9e9459268d0b",
   "metadata": {},
   "source": [
    "<div class=\"alert alert-info\"><h4>To understand the tile naming convention, please refer to the <a href=\"https://www.usgs.gov/centers/eros/science/ard-landsat-tiles-data-dictionary#tile_identifier\" target=\"_blank\"><b><i>Tile Identifier </i></b></a>documentation.</h4></div>"
   ]
  },
  {
   "cell_type": "markdown",
   "id": "8235c426-5d84-41ef-913d-e0819a299e2b",
   "metadata": {},
   "source": [
    "# [**metadata*Between***](https://m2m.cr.usgs.gov/api/docs/datatypes/#metadataBetween)\n",
    "\n",
    "The [**metadataBetween**](https://m2m.cr.usgs.gov/api/docs/datatypes/#metadataBetween) is used to find products within a specified **`Range`**, i.e. values or dates, depending on the metadata being queried. A reminder that if the **`fieldConfig.tile`** is **`Range`**, a  **`firstValue`** and **`secondValue`** are necessary.\n",
    "\n",
    "---\n",
    "## [**Tile Grid Horizontal**](https://www.usgs.gov/centers/eros/science/ard-landsat-tiles-data-dictionary#tile_grid_horizontal)\n",
    "Here we use the [**metadataBetween**](https://m2m.cr.usgs.gov/api/docs/datatypes/#metadataBetween) filter to find products within a range of [**Tile Grid Horizontal**](https://www.usgs.gov/centers/eros/science/ard-landsat-tiles-data-dictionary#tile_grid_horizontal) with the same [**Landsat 4-9 Collection 2 (C2) U.S. Analysis Ready Data (ARD) Level-2 Tiles (Albers projection)**](https://www.usgs.gov/centers/eros/science/usgs-eros-archive-landsat-archives-landsat-collection-2-us-analysis-ready-data) (***landsat_ard_tile_c2***) dataset used above."
   ]
  },
  {
   "cell_type": "markdown",
   "id": "b8e888e9-12a5-46a4-918f-0c6ceed35cd9",
   "metadata": {},
   "source": [
    "#### **1. Identify the index for the filter parameter, `fieldLabel : Tile Grid Horizontal`**\n",
    "In this case it is index # 1. We will use the **`id`** for the **`filterId`** in the metadataBetween dictionary below. "
   ]
  },
  {
   "cell_type": "code",
   "execution_count": null,
   "id": "b81c8553-afc5-4dd5-9c7d-469a5fa35baa",
   "metadata": {},
   "outputs": [],
   "source": [
    "datasetfilters_ardtilec2[1]"
   ]
  },
  {
   "cell_type": "markdown",
   "id": "1b5daac1-0425-4125-9d9b-3007346f6938",
   "metadata": {},
   "source": [
    "#### **2. Fill `metadataFilter` parameter**\n",
    "- The `'filterType'` is `'between'` since the `'fieldConfig':'type'` is `Range` for the `'fieldLabel': 'Tile Grid Horizontal'`\n",
    "- The `'filterId': datasetfilters_ardtilec2[1]['id']` points to the `'id'` value for querying Tile Grid Horizontal ranges within this particular dataset\n",
    "- The `'firstValue' : '8'` is the start of the range and `'secondValue': 10` is the end of the range"
   ]
  },
  {
   "cell_type": "code",
   "execution_count": null,
   "id": "1fd06d9f-da39-442e-a7cf-fc2312b6cbb9",
   "metadata": {},
   "outputs": [],
   "source": [
    "tilehorizontal_filter = {'filterType': 'between',\n",
    "                    'filterId': datasetfilters_ardtilec2[1]['id'],\n",
    "                    'firstValue': 8,\n",
    "                    'secondValue': 10}\n",
    "tilehorizontal_filter"
   ]
  },
  {
   "cell_type": "markdown",
   "id": "cc43428b-185f-49b9-8ef0-9401ee532821",
   "metadata": {},
   "source": [
    "#### **3. Create and view search payload for the Tile Grid Horizontal payload**"
   ]
  },
  {
   "cell_type": "code",
   "execution_count": null,
   "id": "727357df-2173-4a57-be15-279418952f5e",
   "metadata": {},
   "outputs": [],
   "source": [
    "tile_horizontal_payload = create_search_payload('landsat_ard_tile_c2', tilehorizontal_filter, {'start' : '2023-01-01', 'end' : '2023-11-01'})\n",
    "tile_horizontal_payload"
   ]
  },
  {
   "cell_type": "markdown",
   "id": "6b88c945-e35b-4bb7-a4f2-6c11b62e84c6",
   "metadata": {},
   "source": [
    "#### **4. Run [scene-search](https://m2m.cr.usgs.gov/api/docs/reference/#scene-search)  and view results**\n",
    "The results show the **HHH** (Horizontal Tile Number) in both the **`entityIds`** and **`displayIds`** ranging from **`'008'`** to **`'010'`**, for an ARD with a naming convention of **`LXSS_US_HHHVVV_YYYYMMDD_yyyymmdd_CCC_VVV`** (see the ARD naming conventions in the [**Tile Identifier**](https://www.usgs.gov/centers/eros/science/ard-landsat-tiles-data-dictionary/#tile_identifier))."
   ]
  },
  {
   "cell_type": "code",
   "execution_count": null,
   "id": "0b3b3541-8211-4505-8ac2-9a088016e079",
   "metadata": {
    "tags": []
   },
   "outputs": [],
   "source": [
    "pd.json_normalize((sendRequest(serviceUrl + \"scene-search\", tile_horizontal_payload, apiKey))['results'])"
   ]
  },
  {
   "cell_type": "markdown",
   "id": "3fe050eb-3b01-4688-a45b-dfa91a63d04b",
   "metadata": {},
   "source": [
    "---\n",
    "## [**Tile Production Date**](https://www.usgs.gov/centers/eros/science/ard-landsat-tiles-data-dictionary#tile_production_date)\n",
    "We can also filter using the production date **`Tile Production Date (Ex. YYYY/MM/DD)`** metadataFilter using the [**Landsat 4-9 Collection 2 (C2) U.S. Analysis Ready Data (ARD) Level-2 Tiles (Albers projection)**](https://www.usgs.gov/landsat-missions/landsat-collection-2-us-analysis-ready-data) (***landsat_ard_tile_c2***). Here, we limit the search to production dates between **July-1-2023** and **July-31-2023**."
   ]
  },
  {
   "cell_type": "markdown",
   "id": "c8c8bb55-c652-4813-a52d-bea926a7d74d",
   "metadata": {},
   "source": [
    "#### **1. Identify the index for the filter parameter, `fieldLabel : Tile Production Date (Ex. YYYY/MM/DD)`**\n",
    "In this case it is index # 4. We will use the **`id`** for the **`filterId`** in the metadataBetween dictionary below. "
   ]
  },
  {
   "cell_type": "code",
   "execution_count": null,
   "id": "3a56f5f6-73b1-4e28-917d-47975c7cd194",
   "metadata": {},
   "outputs": [],
   "source": [
    "datasetfilters_ardtilec2[4]"
   ]
  },
  {
   "cell_type": "markdown",
   "id": "038fa98b-c454-49b1-b2e8-958bdcaac0d7",
   "metadata": {},
   "source": [
    "#### **2. Fill Tile Production Date `metadataFilter` parameter**\n",
    "- The `'filterType'` is `'between'` since the `'fieldConfig':'type'` is `Range` for the `'fieldLabel': 'Tile Production Date (Ex. YYYY/MM/DD)'`\n",
    "- The `'filterId': datasetfilters_ardtilec2[4]['id']` points to the `'id'` value for querying Tile Production Date ranges within this particular dataset\n",
    "- The `'firstValue' : '2023/07/01'` is the start of the date range and `'secondValue': 2023/07/31` is the end of the date range"
   ]
  },
  {
   "cell_type": "code",
   "execution_count": null,
   "id": "98f34ad6-069d-44ae-b3d4-7317431eeaf2",
   "metadata": {},
   "outputs": [],
   "source": [
    "tileproddate_filter = {'filterId': datasetfilters_ardtilec2[4]['id'],\n",
    "                   'filterType': 'between',\n",
    "                   'firstValue': '2023/07/01',\n",
    "                   'secondValue': '2023/07/31'}\n",
    "tileproddate_filter"
   ]
  },
  {
   "cell_type": "markdown",
   "id": "af725874-83e3-4b20-96d4-d12a6f0da1fa",
   "metadata": {},
   "source": [
    "#### **3. Create and View Tile Production Date Search Payload**\n",
    "\n",
    "Using the similar acquisitionFilter dates as above `{'start' : '2023-01-01', 'end' : '2023-11-01'}` we expect results to be narrowed to the Tile Production Date dates in the new `tileproddate_betweenfilter` paramater i.e. between `'2023/07/01'` and `'2023/07/31'`."
   ]
  },
  {
   "cell_type": "code",
   "execution_count": null,
   "id": "ecbcbde7-6ec2-41a7-9ec3-506847b26cc3",
   "metadata": {},
   "outputs": [],
   "source": [
    "tile_prod_date_payload = create_search_payload('landsat_ard_tile_c2', tileproddate_filter, {'start' : '2023-01-01', 'end' : '2023-11-01'})\n",
    "tile_prod_date_payload"
   ]
  },
  {
   "cell_type": "markdown",
   "id": "6a240caf-3339-44bd-860a-a9e58cff13a0",
   "metadata": {},
   "source": [
    "#### **4. Run and view the [scene-search](https://m2m.cr.usgs.gov/api/docs/reference/#scene-search) payload results for the Tile Production Date Search**\n",
    "\n",
    "The results from the query show products within the Tile Production Date where the **`yyyymmdd`** in the [**ARD Tile Identifier**](https://www.usgs.gov/centers/eros/science/ard-landsat-tiles-data-dictionary#tile_identifier) **`LXSS_US_HHHVVV_YYYYMMDD_yyyymmdd_CCC_VVV`** is between the specified production dates **`'2023/07/20'`** and **`'2023/07/31'`**."
   ]
  },
  {
   "cell_type": "code",
   "execution_count": null,
   "id": "4b9c46d4-df05-438f-8c27-c69791fc2a2a",
   "metadata": {
    "tags": []
   },
   "outputs": [],
   "source": [
    "pd.json_normalize((sendRequest(serviceUrl + \"scene-search\", tile_prod_date_payload, apiKey))['results'])"
   ]
  },
  {
   "cell_type": "markdown",
   "id": "723643f2-7b96-4820-9221-f5a048492b93",
   "metadata": {
    "tags": []
   },
   "source": [
    "---\n",
    "# [**metadata*And***](https://m2m.cr.usgs.gov/api/docs/datatypes/#metadataAnd)\n",
    "The [**metadataAnd**](https://m2m.cr.usgs.gov/api/docs/datatypes/#metadataAnd) is used to make combinations of the [**metadataValue**](https://m2m.cr.usgs.gov/api/docs/datatypes/#metadataValue) and/or [**metadataBetween**](https://m2m.cr.usgs.gov/api/docs/datatypes/#metadataBetween)\n",
    " filter types.\n",
    " For this example we query within the **Landsat 8-9 Operational Land Imager and Thermal Infrared Sensor Collection 2 Level-2 (*landsat_ot_c2_l2*)** dataset."
   ]
  },
  {
   "cell_type": "code",
   "execution_count": null,
   "id": "de06075a-f4e3-47b5-b242-297a11d4fb65",
   "metadata": {
    "tags": []
   },
   "outputs": [],
   "source": [
    "datasetfilters_otc2l2 = sendRequest(serviceUrl + \"dataset-filters\", {'datasetName': 'landsat_ot_c2_l2'}, apiKey)\n",
    "pd.json_normalize(datasetfilters_otc2l2)"
   ]
  },
  {
   "cell_type": "markdown",
   "id": "c294165b-0245-4c6e-9a63-0474bbe92d21",
   "metadata": {
    "tags": []
   },
   "source": [
    "---\n",
    "## **Combine [**metadata*Between***](https://m2m.cr.usgs.gov/api/docs/datatypes/#metadataBetween) filters with [metadata*And*](https://m2m.cr.usgs.gov/api/docs/datatypes/#metadataOr)**\n",
    "\n",
    "We can start by finding data within specific ranges of the **`WRS Path`** and **`WRS Row`**."
   ]
  },
  {
   "cell_type": "markdown",
   "id": "8ad9a247-3044-408d-8bb8-4f2b1258eb8e",
   "metadata": {},
   "source": [
    "#### **1. Create and print the [WRS Path](https://www.usgs.gov/centers/eros/science/landsat-collection-2-data-dictionary#wrs_row) *between* filter**\n",
    "The WRS Path is at index # 3."
   ]
  },
  {
   "cell_type": "code",
   "execution_count": null,
   "id": "5d4ac236-4a2b-40a3-ad29-69452d543bc8",
   "metadata": {},
   "outputs": [],
   "source": [
    "datasetfilters_otc2l2[3]"
   ]
  },
  {
   "cell_type": "markdown",
   "id": "de6c35e4-d7a8-41d8-8a93-3f87b31259cd",
   "metadata": {},
   "source": [
    "- The `'filterType'` is `'between'` since the `'fieldConfig':'type'` is `Range` for the `'fieldLabel': 'WRS Path'`\n",
    "- The `'filterId': datasetfilters_otc2l2[3]['id']` points to the `'id'` value for querying WRS Path ranges within this particular dataset\n",
    "- The `'firstValue' : 29` is the start and `'secondValue': 31` is the end of the WRS path range"
   ]
  },
  {
   "cell_type": "code",
   "execution_count": null,
   "id": "81dd2b6d-d7bc-4de1-9b76-2fd2e4e5e867",
   "metadata": {},
   "outputs": [],
   "source": [
    "WRSpath_filter = {'filterId': datasetfilters_otc2l2[3]['id'],\n",
    "                   'filterType': 'between',\n",
    "                   'firstValue': 29,\n",
    "                   'secondValue': 31}\n",
    "WRSpath_filter"
   ]
  },
  {
   "cell_type": "markdown",
   "id": "144be295-8da3-4d88-90e4-b2a13221cc73",
   "metadata": {},
   "source": [
    "#### **2. Create and print the [WRS Row](https://www.usgs.gov/centers/eros/science/landsat-collection-2-data-dictionary#wrs_row) *between* filter**\n",
    "The WRS Path is at index # 4."
   ]
  },
  {
   "cell_type": "code",
   "execution_count": null,
   "id": "359b739e-e6f0-43cd-94ee-3c22da7157ee",
   "metadata": {
    "tags": []
   },
   "outputs": [],
   "source": [
    "datasetfilters_otc2l2[4]"
   ]
  },
  {
   "cell_type": "markdown",
   "id": "91663c16-67ca-4ff5-882c-f695240e4782",
   "metadata": {},
   "source": [
    "- The `'filterType'` is `'between'` since the `'fieldConfig':'type'` is `Range` for the `'fieldLabel': 'WRS Row'`\n",
    "- The `'filterId': datasetfilters_otc2l2[4]['id']` points to the `'id'` value for querying WRS Row ranges within this particular dataset\n",
    "- The `'firstValue' : 29` is the start and `'secondValue': 31` is the end of the WRS Row range"
   ]
  },
  {
   "cell_type": "code",
   "execution_count": null,
   "id": "b34a8ed1-8c11-49ad-953d-51a7de8cd40b",
   "metadata": {},
   "outputs": [],
   "source": [
    "WRSrow_filter = {'filterId': datasetfilters_otc2l2[4]['id'],\n",
    "                   'filterType': 'between',\n",
    "                   'firstValue': 29,\n",
    "                   'secondValue': 31}\n",
    "WRSrow_filter"
   ]
  },
  {
   "cell_type": "markdown",
   "id": "c7f1aea0-c385-46a2-8844-339478ab23ad",
   "metadata": {},
   "source": [
    "#### **3. Combine into a [**metadataAnd**](https://m2m.cr.usgs.gov/api/docs/datatypes/#metadataAnd) filter parameter**\n",
    "- The `'filterType'` is `'and'` since we are combining two `'between'` metadataFilters\n",
    "- The `'childFilters'` are  the `WRSpath_filter` and the `WRSrow_filter`, `'between'` filters created above"
   ]
  },
  {
   "cell_type": "code",
   "execution_count": null,
   "id": "ef0838c8-1c57-4689-aa27-95fa33819381",
   "metadata": {},
   "outputs": [],
   "source": [
    "WRS_path_row_andfilter = {'filterType': 'and',\n",
    "              'childFilters':[WRSpath_filter, WRSrow_filter]}\n",
    "\n",
    "WRS_path_row_andfilter"
   ]
  },
  {
   "cell_type": "markdown",
   "id": "13aaea91-cc08-4f0e-b701-79f7c17f52ad",
   "metadata": {},
   "source": [
    "#### **4. Create and View WRS Path and Row Search Payload**\n",
    "We expect results to show dataset between PATHs and ROWs Grid `29` and `31`."
   ]
  },
  {
   "cell_type": "code",
   "execution_count": null,
   "id": "44475af4-6a55-4186-aae8-cbc4c0f2fde4",
   "metadata": {},
   "outputs": [],
   "source": [
    "WRS_path_row_payload = create_search_payload('landsat_ot_c2_l2', WRS_path_row_andfilter, {'start' : '2023-01-01', 'end' : '2023-11-01'})\n",
    "WRS_path_row_payload"
   ]
  },
  {
   "cell_type": "markdown",
   "id": "cce23699-9bb4-42fe-a943-03b83295bb32",
   "metadata": {},
   "source": [
    "#### **5. Run and view the [scene-search](https://m2m.cr.usgs.gov/api/docs/reference/#scene-search) payload results for WRS Path and Row Search**\n",
    "\n",
    "The results from the query show **`displayIDs`** with **`PPP`** (WRS Path number) and **`RRR`** (WRS ROw numbers) from **`29`** to **`31`** (see the [**Landsat Collection 2 Product Identifier**](https://www.usgs.gov/centers/eros/science/landsat-collection-2-data-dictionary/#landsat_product_id) **`LXSS_LLLL_PPPRRR_YYYYMMDD_yyyymmdd_CC_TX`**). "
   ]
  },
  {
   "cell_type": "code",
   "execution_count": null,
   "id": "7d4a9c03-1d48-4850-aa6a-0a17f371c304",
   "metadata": {
    "tags": []
   },
   "outputs": [],
   "source": [
    "pd.json_normalize((sendRequest(serviceUrl + \"scene-search\", WRS_path_row_payload, apiKey))['results'])"
   ]
  },
  {
   "cell_type": "markdown",
   "id": "e65191df-6bff-482a-bb07-2f61c2223e13",
   "metadata": {
    "tags": []
   },
   "source": [
    "---\n",
    "## **Combine a [**metadata*Value***](https://m2m.cr.usgs.gov/api/docs/datatypes/#metadataValue) and [**metadata*Between***](https://m2m.cr.usgs.gov/api/docs/datatypes/#metadataBetween) filter with [metadata*And*](https://m2m.cr.usgs.gov/api/docs/datatypes/#metadataOr)**\n",
    "\n",
    "We can combine both **`WRSpath_filter`** and **`WRSrow_filter`** **`'between'`** filters created above with a **Collection Category** **`'value'`** filter."
   ]
  },
  {
   "cell_type": "markdown",
   "id": "8e263b50-2ac0-45b6-b831-710c6bcd5b6e",
   "metadata": {},
   "source": [
    "#### **1. Create and print the [Collection Category](https://www.usgs.gov/centers/eros/science/landsat-collection-2-data-dictionary#collection_category) *value* filter**\n",
    "The index is 8 for the Collection Category. "
   ]
  },
  {
   "cell_type": "code",
   "execution_count": null,
   "id": "37f99498-0d1e-49b9-9087-8ad4a48cd368",
   "metadata": {},
   "outputs": [],
   "source": [
    "datasetfilters_otc2l2[8]"
   ]
  },
  {
   "cell_type": "markdown",
   "id": "faa9ae6f-45db-4ec9-b842-c0a39314522e",
   "metadata": {},
   "source": [
    "The **`valueList`** shows the querable Collection Category which are **`'All'`** for all tiers of the processed data: **`'T1'`** or **`'Tier 1'`** is the highest available quality and processing level, **`'T2'`** or **`'Tier 2'`** for data not to the level of Tier 1 (i.e. significant significant cloud cover) **`'RT'`** or **`'Real-Time'`** for data that requires additional processing to be Tier 1 and Tier 2."
   ]
  },
  {
   "cell_type": "code",
   "execution_count": null,
   "id": "9e50d99f-3224-4724-a3a6-95dc2082379c",
   "metadata": {},
   "outputs": [],
   "source": [
    "collectioncategory_filter = {'filterType': 'value',\n",
    "             'filterId': datasetfilters_otc2l2[8]['id'],\n",
    "             'value' : 'T2'}\n",
    "collectioncategory_filter"
   ]
  },
  {
   "cell_type": "markdown",
   "id": "f0c87dd4-bc70-4535-a25d-7302d14aa766",
   "metadata": {
    "tags": []
   },
   "source": [
    "#### **2. Combine into a [**metadataAnd**](https://m2m.cr.usgs.gov/api/docs/datatypes/#metadataAnd) filter parameter**\n",
    "\n",
    "- The `'filterType'` is `'and'` since we are combining the `'between'` and `'value'` filters\n",
    "- The `'childFilters'` are  the `WRSpath_filter`, `WRSrow_filter`, the `'between'` filters created above and the new `collectioncategory_filter` `'value'` filter"
   ]
  },
  {
   "cell_type": "code",
   "execution_count": null,
   "id": "00090fd2-d032-4a13-9a13-e441e9bc3ebe",
   "metadata": {},
   "outputs": [],
   "source": [
    "wrspathrow_category_andfilter = {'filterType': 'and',\n",
    "              'childFilters':[WRSpath_filter, WRSrow_filter, collectioncategory_filter]}\n",
    "\n",
    "wrspathrow_category_andfilter"
   ]
  },
  {
   "cell_type": "markdown",
   "id": "6facf486-cba8-4d06-87ee-c89d06ab7c57",
   "metadata": {},
   "source": [
    "#### **3. Create and View WRS Path, WRS Row and Collection Category Search Payload**\n",
    "We expect results to show dataset between PATHs and ROWs `29` and `31` with only Tier 2 `'T2'` level quality."
   ]
  },
  {
   "cell_type": "code",
   "execution_count": null,
   "id": "a9c438e6-6d56-4301-83f8-ee0f0f2f9edf",
   "metadata": {},
   "outputs": [],
   "source": [
    "WRS_path_row_category_payload = create_search_payload('landsat_ot_c2_l2', wrspathrow_category_andfilter, {'start' : '2023-01-01', 'end' : '2023-11-01'})\n",
    "WRS_path_row_category_payload"
   ]
  },
  {
   "cell_type": "markdown",
   "id": "b8a77c8c-ae4f-4685-8b17-287457f526a3",
   "metadata": {},
   "source": [
    "#### **4. Run and view the [*scene-search*](https://m2m.cr.usgs.gov/api/docs/reference/#scene-search) payload results for WRS Path, WRS Row and Collection Category Search**\n",
    "\n",
    "The results from the query show **`displayID's`** with **`PPP`** (WRS Path number), **`RRR`** (WRS Row numbers) between **`29`** and **`31`**, and **`TX`** (Collection Category) **`T2`**.(see the [**Landsat 8-9 Collection 2 Level 1 Naming Convention**](https://www.usgs.gov/faqs/what-naming-convention-landsat-collections-level-1-scenes) **`LXSS_LLLL_PPPRRR_YYYYMMDD_yyyymmdd_CC_TX`**). "
   ]
  },
  {
   "cell_type": "code",
   "execution_count": null,
   "id": "25e8f93d-9403-405a-b8e1-e3a5dcf89db2",
   "metadata": {
    "tags": []
   },
   "outputs": [],
   "source": [
    "pd.json_normalize((sendRequest(serviceUrl + \"scene-search\", WRS_path_row_category_payload, apiKey))['results'])"
   ]
  },
  {
   "cell_type": "markdown",
   "id": "b1021da7-c03f-416d-962a-3edb85df733c",
   "metadata": {
    "tags": []
   },
   "source": [
    "---\n",
    "# [**metadata*Or***](https://m2m.cr.usgs.gov/api/docs/datatypes/#metadataOr)\n",
    "Like the [**metadataAnd**](https://m2m.cr.usgs.gov/api/docs/datatypes/#metadataAnd), the [**metadataOr**](https://m2m.cr.usgs.gov/api/docs/datatypes/#metadataOr) is used to make combininations of the [**metadataValue**](https://m2m.cr.usgs.gov/api/docs/datatypes/#metadataValue) and/or [**metadataBetween**](https://m2m.cr.usgs.gov/api/docs/datatypes/#metadataBetween) filter types."
   ]
  },
  {
   "cell_type": "markdown",
   "id": "8056cac3-ee56-48ff-a34e-52d32c25f4cb",
   "metadata": {},
   "source": [
    "#### **1. Create and print the [Landsat Scene Identifier](https://www.usgs.gov/centers/eros/science/landsat-collection-2-data-dictionary/#landsat_scene_id) *value* filter**\n",
    "The index is 2 for the Landsat Scene Identifier."
   ]
  },
  {
   "cell_type": "code",
   "execution_count": null,
   "id": "13e028c4-be15-4849-afc6-4567627eb712",
   "metadata": {},
   "outputs": [],
   "source": [
    "datasetfilters_otc2l2[2]"
   ]
  },
  {
   "cell_type": "markdown",
   "id": "a479fd1f-45ed-45c9-b212-93627f70eb2a",
   "metadata": {},
   "source": [
    "#### **2. Fill `metadataFilter` parameter with information for querying a specific `Landsat Scene Identifier`**\n",
    "- The `'filterType'` is `'value'` since the `'fieldConfig':'type'` is `Text` for the `'fieldLabel': 'Landsat Scene Identifier'`\n",
    "- The `'filterId': datasetfilters_tmc2L1[11]['id']` points to the `'id'` value for querying the Landsat 8-9 Operational Land Imager and Thermal Infrared Sensor Collection 2 Level-2 (`'landsat_ot_c2_l2'`) dataset\n",
    "- The `'value' : 'LC80460272023260LGN00'`, `'value' : 'LC90470272023259LGN00'` and `'value' : 'LC90470272023195LGN00'` is set to query for data within a specific Landsat 8-9 Operational Land Imager and Thermal Infrared Sensor Collection 2 Level-2  (`'landsat_ot_c2_l2'`) dataset scene\n",
    "- The `'operand'` is `'like'` to find scenes within the specific Scene Identifier"
   ]
  },
  {
   "cell_type": "code",
   "execution_count": null,
   "id": "abe0d0ae-7c44-45dc-b327-9c1308dc7a56",
   "metadata": {},
   "outputs": [],
   "source": [
    "scene_identifier_orfilter = {'filterType': 'or',\n",
    "              'childFilters':[\n",
    "                  {'filterType': 'value',\n",
    "                 'filterId': datasetfilters_tmc2L1[11]['id'],\n",
    "                 'value' : 'LC80460272023260LGN00',\n",
    "                           'operand' : 'like'},\n",
    "                  {'filterType': 'value',\n",
    "                 'filterId': datasetfilters_tmc2L1[11]['id'],\n",
    "                 'value' : 'LC90470272023259LGN00',\n",
    "                           'operand' : 'like'},\n",
    "                  {'filterType': 'value',\n",
    "                 'filterId': datasetfilters_tmc2L1[11]['id'],\n",
    "                 'value' : 'LC90470272023195LGN00',\n",
    "                           'operand' : 'like'}]}\n",
    "scene_identifier_orfilter"
   ]
  },
  {
   "cell_type": "markdown",
   "id": "b5000557-1a28-4a92-b098-a0eaca1d9ccc",
   "metadata": {
    "tags": []
   },
   "source": [
    "#### **3. Create the [scene-search](https://m2m.cr.usgs.gov/api/docs/reference/#scene-search) payload used for querying the `LC80460272023260LGN00`, `LC90470272023259LGN00` and `LC90470272023195LGN00` scenes**"
   ]
  },
  {
   "cell_type": "code",
   "execution_count": null,
   "id": "7299e24e-1122-425e-b21d-6b7b2c9bbebf",
   "metadata": {},
   "outputs": [],
   "source": [
    "ot_scene_identifier_payload = create_search_payload('landsat_ot_c2_l2', scene_identifier_orfilter, {'start' : '2023-01-01', 'end' : '2023-11-01'})\n",
    "ot_scene_identifier_payload"
   ]
  },
  {
   "cell_type": "markdown",
   "id": "cb1b4ed9-af70-4d7a-8f99-68ab9c88986a",
   "metadata": {},
   "source": [
    "#### **4. Run [*scene-search*](https://m2m.cr.usgs.gov/api/docs/reference/#scene-search)  and view results** \n",
    "The result shows scenes with the Scene Identifiers **`LC80460272023260LGN00`**, **`LC90470272023259LGN00`** and **`LC90470272023195LGN00`**, this is indicated by the **`entityId`** names."
   ]
  },
  {
   "cell_type": "code",
   "execution_count": null,
   "id": "6975bbec-f861-4b5d-be3d-07eb623079d3",
   "metadata": {
    "tags": []
   },
   "outputs": [],
   "source": [
    "pd.json_normalize((sendRequest(serviceUrl + \"scene-search\", ot_scene_identifier_payload, apiKey))['results'])"
   ]
  },
  {
   "cell_type": "markdown",
   "id": "d154e8c4-3935-4ecd-949b-8055761aa783",
   "metadata": {},
   "source": [
    "---\n",
    "## **[Logout](https://m2m.cr.usgs.gov/api/docs/reference/#logout)**<a id=\"logout-api\"></a>\n",
    "\n",
    "Logout so the API Key cannot be used anymore."
   ]
  },
  {
   "cell_type": "markdown",
   "id": "46995a02-a01b-4c7f-a0c1-d586364130ce",
   "metadata": {},
   "source": [
    "<div class=\"alert alert-block alert-warning\">\n",
    "    <h4> <b>NOTE:</b> The Machine-to-Machine API key expires after 2 hours of inactivity. </h4>\n",
    "</div>  "
   ]
  },
  {
   "cell_type": "code",
   "execution_count": null,
   "id": "dfbbd0a3-e63a-4542-ae60-0fdbd06a1f54",
   "metadata": {},
   "outputs": [],
   "source": [
    "endpoint = \"logout\"  \n",
    "if sendRequest(serviceUrl + endpoint, None, apiKey) == None:        \n",
    "    print(\"\\n\\nLogged Out\\n\")\n",
    "else:\n",
    "    print(\"\\n\\nLogout Failed\\n\")"
   ]
  },
  {
   "cell_type": "markdown",
   "id": "1f1f3161-8a98-477d-853e-bf363222e675",
   "metadata": {},
   "source": [
    "---\n",
    "<div class=\"alert alert-block alert-info\">\n",
    "    <h1> Contact Information </h1>\n",
    "    <h3> Material written by Tonian Robinson<sup>1</sup> </h3>\n",
    "    <ul>\n",
    "        <b>Contact:</b> custserv@usgs.gov <br> \n",
    "        <b>Voice:</b> +1-605-594-6151 <br>\n",
    "        <b>Organization:</b> USGS EROS User Services <br>\n",
    "        <b>Date last modified:</b> 24-Jan-2024 <br>\n",
    "    </ul>\n",
    "    \n",
    "<sup>1</sup>Earth Space Technology Services LLC., contractor to the U.S. Geological Survey, Earth Resources Observation and Science (EROS) Center, Sioux Falls, South Dakota, 57198-001, USA. Work performed under USGS contract G0121D0001.\n",
    "</div>"
   ]
  },
  {
   "cell_type": "code",
   "execution_count": null,
   "id": "230fb18d-eb3b-4981-9d10-73865ee2b81f",
   "metadata": {},
   "outputs": [],
   "source": []
  }
 ],
 "metadata": {
  "kernelspec": {
   "display_name": ".venv",
   "language": "python",
   "name": "python3"
  },
  "language_info": {
   "codemirror_mode": {
    "name": "ipython",
    "version": 3
   },
   "file_extension": ".py",
   "mimetype": "text/x-python",
   "name": "python",
   "nbconvert_exporter": "python",
   "pygments_lexer": "ipython3",
   "version": "3.12.3"
  }
 },
 "nbformat": 4,
 "nbformat_minor": 5
}
